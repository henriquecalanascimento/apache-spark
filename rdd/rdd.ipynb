{
 "cells": [
  {
   "cell_type": "code",
   "execution_count": 1,
   "id": "4fcd02a1",
   "metadata": {},
   "outputs": [],
   "source": [
    "# Import Pyspark, SparkContext\n",
    "from pyspark import SparkContext"
   ]
  },
  {
   "cell_type": "code",
   "execution_count": 2,
   "id": "39c15028",
   "metadata": {},
   "outputs": [
    {
     "name": "stderr",
     "output_type": "stream",
     "text": [
      "25/05/26 16:16:21 WARN Utils: Your hostname, Henriques-MacBook-Pro.local resolves to a loopback address: 127.0.0.1; using 192.168.0.12 instead (on interface en0)\n",
      "25/05/26 16:16:21 WARN Utils: Set SPARK_LOCAL_IP if you need to bind to another address\n",
      "Setting default log level to \"WARN\".\n",
      "To adjust logging level use sc.setLogLevel(newLevel). For SparkR, use setLogLevel(newLevel).\n",
      "25/05/26 16:16:22 WARN NativeCodeLoader: Unable to load native-hadoop library for your platform... using builtin-java classes where applicable\n"
     ]
    }
   ],
   "source": [
    "# Create the SparkContext\n",
    "sc = SparkContext(\"local\", \"Word Count\")"
   ]
  },
  {
   "cell_type": "code",
   "execution_count": 3,
   "id": "0f4a1894",
   "metadata": {},
   "outputs": [],
   "source": [
    "# Init RDD object\n",
    "word_list = sc.parallelize([\"hello world\", \"hello spark\", \"world cup\"])\n"
   ]
  },
  {
   "cell_type": "code",
   "execution_count": 4,
   "id": "81971052",
   "metadata": {},
   "outputs": [],
   "source": [
    "# Split words and do the word count\n",
    "word_count = word_list.flatMap(lambda line: line.split()) \\\n",
    "                   .map(lambda word: (word, 1)) \\\n",
    "                   .reduceByKey(lambda a, b: a + b)"
   ]
  },
  {
   "cell_type": "code",
   "execution_count": 5,
   "id": "8f6dd306",
   "metadata": {},
   "outputs": [
    {
     "name": "stderr",
     "output_type": "stream",
     "text": [
      "[Stage 0:>                                                          (0 + 1) / 1]\r"
     ]
    },
    {
     "name": "stdout",
     "output_type": "stream",
     "text": [
      "hello: 2\n",
      "world: 2\n",
      "spark: 1\n",
      "cup: 1\n"
     ]
    },
    {
     "name": "stderr",
     "output_type": "stream",
     "text": [
      "                                                                                \r"
     ]
    }
   ],
   "source": [
    "# Print the results\n",
    "for word, count in word_count.collect():\n",
    "    print(f\"{word}: {count}\")"
   ]
  },
  {
   "cell_type": "code",
   "execution_count": 6,
   "id": "20bba118",
   "metadata": {},
   "outputs": [],
   "source": [
    "# Close the Spark session\n",
    "sc.stop()"
   ]
  }
 ],
 "metadata": {
  "kernelspec": {
   "display_name": ".venv",
   "language": "python",
   "name": "python3"
  },
  "language_info": {
   "codemirror_mode": {
    "name": "ipython",
    "version": 3
   },
   "file_extension": ".py",
   "mimetype": "text/x-python",
   "name": "python",
   "nbconvert_exporter": "python",
   "pygments_lexer": "ipython3",
   "version": "3.11.5"
  }
 },
 "nbformat": 4,
 "nbformat_minor": 5
}
