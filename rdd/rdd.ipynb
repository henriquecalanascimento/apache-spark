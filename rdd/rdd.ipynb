{
 "cells": [
  {
   "cell_type": "code",
   "execution_count": 1,
   "id": "e35db5f3",
   "metadata": {},
   "outputs": [],
   "source": [
    "# Import Pyspark\n",
    "import pyspark"
   ]
  },
  {
   "cell_type": "code",
   "execution_count": null,
   "id": "9fa7694b",
   "metadata": {},
   "outputs": [],
   "source": [
    "# Load Data to Spark object"
   ]
  },
  {
   "cell_type": "code",
   "execution_count": null,
   "id": "84899d03",
   "metadata": {},
   "outputs": [],
   "source": [
    "# Show the sample Data"
   ]
  },
  {
   "cell_type": "code",
   "execution_count": null,
   "id": "a927d485",
   "metadata": {},
   "outputs": [],
   "source": [
    "# Word Count"
   ]
  },
  {
   "cell_type": "code",
   "execution_count": null,
   "id": "f2192fb0",
   "metadata": {},
   "outputs": [],
   "source": [
    "# Write Output"
   ]
  }
 ],
 "metadata": {
  "kernelspec": {
   "display_name": ".venv",
   "language": "python",
   "name": "python3"
  },
  "language_info": {
   "codemirror_mode": {
    "name": "ipython",
    "version": 3
   },
   "file_extension": ".py",
   "mimetype": "text/x-python",
   "name": "python",
   "nbconvert_exporter": "python",
   "pygments_lexer": "ipython3",
   "version": "3.12.3"
  }
 },
 "nbformat": 4,
 "nbformat_minor": 5
}
