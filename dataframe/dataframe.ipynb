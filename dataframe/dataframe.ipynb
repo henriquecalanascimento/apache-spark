{
 "cells": [
  {
   "cell_type": "code",
   "execution_count": 1,
   "id": "e35db5f3",
   "metadata": {},
   "outputs": [],
   "source": [
    "# Import Pyspark\n",
    "from pyspark.sql import SparkSession"
   ]
  },
  {
   "cell_type": "code",
   "execution_count": 2,
   "id": "9fa7694b",
   "metadata": {},
   "outputs": [
    {
     "name": "stderr",
     "output_type": "stream",
     "text": [
      "25/05/26 16:07:06 WARN Utils: Your hostname, Henriques-MacBook-Pro.local resolves to a loopback address: 127.0.0.1; using 192.168.0.12 instead (on interface en0)\n",
      "25/05/26 16:07:06 WARN Utils: Set SPARK_LOCAL_IP if you need to bind to another address\n",
      "Setting default log level to \"WARN\".\n",
      "To adjust logging level use sc.setLogLevel(newLevel). For SparkR, use setLogLevel(newLevel).\n",
      "25/05/26 16:07:07 WARN NativeCodeLoader: Unable to load native-hadoop library for your platform... using builtin-java classes where applicable\n"
     ]
    }
   ],
   "source": [
    "# Create a Spark session\n",
    "spark = SparkSession.builder.appName(\"Spark Demo\").getOrCreate()"
   ]
  },
  {
   "cell_type": "code",
   "execution_count": 3,
   "id": "84899d03",
   "metadata": {},
   "outputs": [],
   "source": [
    "# Create the Sample Data\n",
    "data = [\n",
    "    (\"John\", 25, \"Developer\"),\n",
    "    (\"Alice\", 28, \"Designer\"),\n",
    "    (\"Mary\", 30, \"Engineer\"),\n",
    "    (\"Peter\", 35, \"Manager\")\n",
    "]\n",
    "\n",
    "columns = [\"name\", \"age\", \"position\"]\n",
    "\n"
   ]
  },
  {
   "cell_type": "code",
   "execution_count": 4,
   "id": "2eaca605",
   "metadata": {},
   "outputs": [
    {
     "data": {
      "text/plain": [
       "[('John', 25, 'Developer'),\n",
       " ('Alice', 28, 'Designer'),\n",
       " ('Mary', 30, 'Engineer'),\n",
       " ('Peter', 35, 'Manager')]"
      ]
     },
     "execution_count": 4,
     "metadata": {},
     "output_type": "execute_result"
    }
   ],
   "source": [
    "data"
   ]
  },
  {
   "cell_type": "code",
   "execution_count": 5,
   "id": "7fcbbdda",
   "metadata": {},
   "outputs": [],
   "source": [
    "# Create a Spark Dataframe\n",
    "df = spark.createDataFrame(data, schema=columns)"
   ]
  },
  {
   "cell_type": "code",
   "execution_count": 6,
   "id": "0b670d56",
   "metadata": {},
   "outputs": [
    {
     "name": "stderr",
     "output_type": "stream",
     "text": [
      "                                                                                \r"
     ]
    },
    {
     "name": "stdout",
     "output_type": "stream",
     "text": [
      "+-----+---+---------+\n",
      "| name|age| position|\n",
      "+-----+---+---------+\n",
      "| John| 25|Developer|\n",
      "|Alice| 28| Designer|\n",
      "| Mary| 30| Engineer|\n",
      "|Peter| 35|  Manager|\n",
      "+-----+---+---------+\n",
      "\n"
     ]
    }
   ],
   "source": [
    "# Print Dataframe\n",
    "df.show()"
   ]
  },
  {
   "cell_type": "code",
   "execution_count": 10,
   "id": "1651cbf1",
   "metadata": {},
   "outputs": [
    {
     "name": "stderr",
     "output_type": "stream",
     "text": [
      "                                                                                \r"
     ]
    }
   ],
   "source": [
    "# Write Output in parquet format\n",
    "df.write.parquet(\"../data/output/employee/\")"
   ]
  },
  {
   "cell_type": "code",
   "execution_count": 11,
   "id": "f2192fb0",
   "metadata": {},
   "outputs": [],
   "source": [
    "# Closed the Spark session\n",
    "spark.stop()"
   ]
  }
 ],
 "metadata": {
  "kernelspec": {
   "display_name": ".venv",
   "language": "python",
   "name": "python3"
  },
  "language_info": {
   "codemirror_mode": {
    "name": "ipython",
    "version": 3
   },
   "file_extension": ".py",
   "mimetype": "text/x-python",
   "name": "python",
   "nbconvert_exporter": "python",
   "pygments_lexer": "ipython3",
   "version": "3.11.5"
  }
 },
 "nbformat": 4,
 "nbformat_minor": 5
}
